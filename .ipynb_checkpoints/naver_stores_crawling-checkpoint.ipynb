{
 "cells": [
  {
   "cell_type": "code",
   "execution_count": 11,
   "metadata": {},
   "outputs": [],
   "source": [
    "import random\n",
    "import time\n",
    "import pandas as pd\n",
    "import requests\n",
    "from scrapy.http import TextResponse\n",
    "from fake_useragent import UserAgent\n",
    "import warnings\n",
    "warnings.filterwarnings(\"ignore\")"
   ]
  },
  {
   "cell_type": "code",
   "execution_count": 2,
   "metadata": {},
   "outputs": [
    {
     "data": {
      "text/html": [
       "<div>\n",
       "<style scoped>\n",
       "    .dataframe tbody tr th:only-of-type {\n",
       "        vertical-align: middle;\n",
       "    }\n",
       "\n",
       "    .dataframe tbody tr th {\n",
       "        vertical-align: top;\n",
       "    }\n",
       "\n",
       "    .dataframe thead th {\n",
       "        text-align: right;\n",
       "    }\n",
       "</style>\n",
       "<table border=\"1\" class=\"dataframe\">\n",
       "  <thead>\n",
       "    <tr style=\"text-align: right;\">\n",
       "      <th></th>\n",
       "      <th>자치구</th>\n",
       "      <th>동</th>\n",
       "    </tr>\n",
       "  </thead>\n",
       "  <tbody>\n",
       "    <tr>\n",
       "      <th>419</th>\n",
       "      <td>강동구</td>\n",
       "      <td>둔촌1동</td>\n",
       "    </tr>\n",
       "    <tr>\n",
       "      <th>420</th>\n",
       "      <td>강동구</td>\n",
       "      <td>둔촌2동</td>\n",
       "    </tr>\n",
       "    <tr>\n",
       "      <th>421</th>\n",
       "      <td>강동구</td>\n",
       "      <td>암사1동</td>\n",
       "    </tr>\n",
       "    <tr>\n",
       "      <th>422</th>\n",
       "      <td>강동구</td>\n",
       "      <td>천호2동</td>\n",
       "    </tr>\n",
       "    <tr>\n",
       "      <th>423</th>\n",
       "      <td>강동구</td>\n",
       "      <td>길동</td>\n",
       "    </tr>\n",
       "  </tbody>\n",
       "</table>\n",
       "</div>"
      ],
      "text/plain": [
       "     자치구     동\n",
       "419  강동구  둔촌1동\n",
       "420  강동구  둔촌2동\n",
       "421  강동구  암사1동\n",
       "422  강동구  천호2동\n",
       "423  강동구    길동"
      ]
     },
     "execution_count": 2,
     "metadata": {},
     "output_type": "execute_result"
    }
   ],
   "source": [
    "dongs = pd.read_csv(\"gudong.csv\")\n",
    "dongs.drop(columns=\"Unnamed: 0\", inplace=True)\n",
    "dongs.tail()"
   ]
  },
  {
   "cell_type": "code",
   "execution_count": 3,
   "metadata": {},
   "outputs": [
    {
     "data": {
      "text/html": [
       "<div>\n",
       "<style scoped>\n",
       "    .dataframe tbody tr th:only-of-type {\n",
       "        vertical-align: middle;\n",
       "    }\n",
       "\n",
       "    .dataframe tbody tr th {\n",
       "        vertical-align: top;\n",
       "    }\n",
       "\n",
       "    .dataframe thead th {\n",
       "        text-align: right;\n",
       "    }\n",
       "</style>\n",
       "<table border=\"1\" class=\"dataframe\">\n",
       "  <thead>\n",
       "    <tr style=\"text-align: right;\">\n",
       "      <th></th>\n",
       "      <th>id</th>\n",
       "      <th>dong</th>\n",
       "      <th>name</th>\n",
       "      <th>tel</th>\n",
       "      <th>addr</th>\n",
       "      <th>bizhour</th>\n",
       "      <th>category</th>\n",
       "      <th>context</th>\n",
       "      <th>menu</th>\n",
       "      <th>reviewcount</th>\n",
       "      <th>microreview</th>\n",
       "      <th>thumbnail</th>\n",
       "      <th>lng</th>\n",
       "      <th>lat</th>\n",
       "      <th>rating</th>\n",
       "    </tr>\n",
       "  </thead>\n",
       "  <tbody>\n",
       "  </tbody>\n",
       "</table>\n",
       "</div>"
      ],
      "text/plain": [
       "Empty DataFrame\n",
       "Columns: [id, dong, name, tel, addr, bizhour, category, context, menu, reviewcount, microreview, thumbnail, lng, lat, rating]\n",
       "Index: []"
      ]
     },
     "execution_count": 3,
     "metadata": {},
     "output_type": "execute_result"
    }
   ],
   "source": [
    "idx = 0\n",
    "errorlist = []\n",
    "ua = UserAgent()\n",
    "columns = [\"id\", \"dong\", \"name\", \"tel\", \"addr\", \"bizhour\", \"category\", \"context\", \"menu\", \"reviewcount\", \"microreview\", \"thumbnail\", \"lng\", \"lat\", \"rating\"]\n",
    "df = pd.DataFrame(columns=columns)\n",
    "df"
   ]
  },
  {
   "cell_type": "code",
   "execution_count": null,
   "metadata": {},
   "outputs": [],
   "source": [
    "for i in range(0, len(dongs[\"동\"]), 50):\n",
    "    for dong in dongs[\"동\"][i:i+50]:\n",
    "        # 크롤링 URL 설정\n",
    "        url = \"https://map.naver.com/v5/api/search?caller=pcweb&query={} 맛집&type=all&searchCoord=126.93536503149417;37.576196000000024&page=1&displayCount=50&isPlaceRecommendationReplace=true&lang=ko\".format(dong)\n",
    "\n",
    "        # 네이버 지도 (URL+동 이름)으로 해당 지역 맛집 데이터 리퀘스트\n",
    "        try:\n",
    "            response = requests.get(url)\n",
    "            print(idx, dong, response)\n",
    "            datas = response.json()[\"result\"][\"place\"][\"list\"]\n",
    "        except:\n",
    "            errorlist.append(idx)\n",
    "        \n",
    "        # 해당 동 데이터 입력\n",
    "        columns = [\"id\", \"dong\", \"name\", \"tel\", \"addr\", \"bizhour\", \"category\", \"context\", \"menu\", \"reviewcount\", \"microreview\", \"thumbnail\", \"lng\", \"lat\", \"rating\"]\n",
    "        dong_df = pd.DataFrame(columns=columns)\n",
    "        \n",
    "        try :\n",
    "            dong_df[\"dong\"] = dong\n",
    "            dong_df[\"id\"] = [data[\"id\"] for data in datas]\n",
    "            dong_df[\"name\"] = [data[\"name\"] for data in datas]\n",
    "            dong_df[\"tel\"] = [data[\"tel\"] for data in datas]\n",
    "            dong_df[\"addr\"] = [data[\"address\"] for data in datas]\n",
    "            dong_df[\"bizhour\"] = [data[\"bizhourInfo\"] for data in datas]\n",
    "            dong_df[\"category\"] = [data[\"category\"] for data in datas]\n",
    "            dong_df[\"context\"] = [data[\"context\"] for data in datas]\n",
    "            dong_df[\"menu\"] = [data[\"menuInfo\"] for data in datas]\n",
    "            dong_df[\"reviewcount\"] = [data[\"reviewCount\"] for data in datas]\n",
    "            dong_df[\"microreview\"] = [data[\"microReview\"] for data in datas]\n",
    "            dong_df[\"thumbnail\"] = [data[\"thumUrl\"] for data in datas]\n",
    "            dong_df[\"lng\"] = [data[\"x\"] for data in datas]\n",
    "            dong_df[\"lat\"] = [data[\"y\"] for data in datas]\n",
    "        \n",
    "        except:\n",
    "            print(\"none data\", idx, dong)\n",
    "    \n",
    "        idx += 1\n",
    "        df = df.append(dong_df)\n",
    "        time.sleep(random.randint(15, 20))\n",
    "    \n",
    "    time.sleep(random.randint(180, 240))"
   ]
  },
  {
   "cell_type": "code",
   "execution_count": null,
   "metadata": {},
   "outputs": [],
   "source": []
  },
  {
   "cell_type": "code",
   "execution_count": 4,
   "metadata": {},
   "outputs": [],
   "source": [
    "# df.to_excel(\"naver_df.xlsx\")"
   ]
  }
 ],
 "metadata": {
  "kernelspec": {
   "display_name": "Python 3",
   "language": "python",
   "name": "python3"
  },
  "language_info": {
   "codemirror_mode": {
    "name": "ipython",
    "version": 3
   },
   "file_extension": ".py",
   "mimetype": "text/x-python",
   "name": "python",
   "nbconvert_exporter": "python",
   "pygments_lexer": "ipython3",
   "version": "3.8.3"
  }
 },
 "nbformat": 4,
 "nbformat_minor": 4
}
