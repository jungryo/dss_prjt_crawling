{
 "cells": [
  {
   "cell_type": "code",
   "execution_count": 2,
   "metadata": {},
   "outputs": [],
   "source": [
    "import pandas as pd\n",
    "import requests\n",
    "from geopy import distance\n",
    "import urllib.parse as urlparse\n",
    "\n",
    "radius = 1\n",
    "radius = float(radius)"
   ]
  },
  {
   "cell_type": "code",
   "execution_count": 3,
   "metadata": {},
   "outputs": [],
   "source": [
    "# 맛집 데이터 로드\n",
    "df = pd.read_csv(\"./df.csv\")"
   ]
  },
  {
   "cell_type": "code",
   "execution_count": 4,
   "metadata": {},
   "outputs": [],
   "source": [
    "# 자동차 경로\n",
    "def driving():\n",
    "    # 출발지 입력\n",
    "    d1 = input(\"출발지 1을 입력하세요. : \")\n",
    "    d2 = input(\"출발지 2을 입력하세요. : \")\n",
    "    menu = input(\"메뉴를 입력하세요. : \")\n",
    "        \n",
    "    # URL 설정\n",
    "    d1_url = \"https://naveropenapi.apigw.ntruss.com/map-geocode/v2/geocode?query={}\".format(d1)\n",
    "    d2_url = \"https://naveropenapi.apigw.ntruss.com/map-geocode/v2/geocode?query={}\".format(d2)\n",
    "        \n",
    "    # 리퀘스트\n",
    "    headers={\"X-NCP-APIGW-API-KEY-ID\": \"r97kqovind\", \"X-NCP-APIGW-API-KEY\": \"FWeecTIqiwQGs2RGil1IPA8wg9QURxjYBzyEPxR7\"}\n",
    "    response1 = requests.get(d1_url, headers=headers)\n",
    "    response2 = requests.get(d2_url, headers=headers)\n",
    "        \n",
    "    # JSON 파싱하여 위경도 추출\n",
    "    d1_x = response1.json()[\"addresses\"][0][\"x\"]\n",
    "    d1_y = response1.json()[\"addresses\"][0][\"y\"]\n",
    "    d2_x = response2.json()[\"addresses\"][0][\"x\"]\n",
    "    d2_y = response2.json()[\"addresses\"][0][\"y\"]\n",
    "    d1_xy = d1_x + \", \" + d1_y\n",
    "    d2_xy = d2_x + \", \" + d2_y\n",
    "        \n",
    "    # 출발지간 위경도 -> 경로값 변환\n",
    "    d_option = \"traoptimal\"\n",
    "    d_url = \"https://naveropenapi.apigw.ntruss.com/map-direction/v1/driving?start={}&goal={}&option={}\".format(d1_xy, d2_xy, d_option)\n",
    "    response = requests.get(d_url, headers=headers)\n",
    "    path = response.json()[\"route\"][\"traoptimal\"][0][\"path\"]    \n",
    "        \n",
    "    # 중간 경로의 모든 값\n",
    "    middle_path = path[len(path)//3:int(len(path)//(3/2))]\n",
    "    # 중간 경로 중 크롤링 포인트\n",
    "    crawling_point = middle_path[::10]\n",
    "    return crawling_point"
   ]
  },
  {
   "cell_type": "code",
   "execution_count": 5,
   "metadata": {
    "scrolled": true
   },
   "outputs": [
    {
     "name": "stdout",
     "output_type": "stream",
     "text": [
      "출발지 1을 입력하세요. : 서울시 강남구 도산대로 110\n",
      "출발지 2을 입력하세요. : 서울시 성동구 고산자로 270\n",
      "메뉴를 입력하세요. : 양식\n"
     ]
    },
    {
     "data": {
      "text/plain": [
       "[[127.0333992, 37.5263579],\n",
       " [127.0337783, 37.5290914],\n",
       " [127.0346196, 37.5348543],\n",
       " [127.0361719, 37.5438983],\n",
       " [127.0365972, 37.5470655],\n",
       " [127.0352725, 37.5514743],\n",
       " [127.0343784, 37.5547138]]"
      ]
     },
     "execution_count": 5,
     "metadata": {},
     "output_type": "execute_result"
    }
   ],
   "source": [
    "driving()"
   ]
  },
  {
   "cell_type": "code",
   "execution_count": null,
   "metadata": {},
   "outputs": [],
   "source": []
  }
 ],
 "metadata": {
  "kernelspec": {
   "display_name": "Python 3",
   "language": "python",
   "name": "python3"
  },
  "language_info": {
   "codemirror_mode": {
    "name": "ipython",
    "version": 3
   },
   "file_extension": ".py",
   "mimetype": "text/x-python",
   "name": "python",
   "nbconvert_exporter": "python",
   "pygments_lexer": "ipython3",
   "version": "3.7.6"
  }
 },
 "nbformat": 4,
 "nbformat_minor": 4
}
